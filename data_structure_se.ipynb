{
  "nbformat": 4,
  "nbformat_minor": 0,
  "metadata": {
    "colab": {
      "provenance": []
    },
    "kernelspec": {
      "name": "python3",
      "display_name": "Python 3"
    },
    "language_info": {
      "name": "python"
    }
  },
  "cells": [
    {
      "cell_type": "markdown",
      "source": [],
      "metadata": {
        "id": "UZKsuKlrjLMA"
      }
    },
    {
      "cell_type": "code",
      "execution_count": null,
      "metadata": {
        "id": "L-hWxZlvilmJ"
      },
      "outputs": [],
      "source": [
        "  # Data Types And Structures Questions\n",
        "\n"
      ]
    },
    {
      "cell_type": "code",
      "source": [
        "1. What are data structures, and why are they important?\n",
        "Data structures are ways to organize and store data in a computer so that it can be efficiently accessed, modified, and manipulated. They are important because they enable efficient data retrieval, insertion, deletion, and manipulation, which are crucial in many applications.\n",
        "\n",
        "2. Explain the difference between mutable and immutable data types with examples.\n",
        "Mutable data types can be modified after creation, while immutable data types cannot. Examples of mutable data types include lists and dictionaries, while examples of immutable data types include strings and tuples.\n",
        "\n",
        "3. What are the main differences between lists and tuples in Python?\n",
        "The main differences between lists and tuples in Python are that lists are mutable, while tuples are immutable. Lists are also more flexible and can be modified after creation, while tuples are more secure and cannot be modified.\n",
        "\n",
        "4. Describe how dictionaries store data.\n",
        "Dictionaries store data as key-value pairs, where each key is unique and maps to a specific value. The data is stored in a hash table, which enables fast lookup and retrieval.\n",
        "\n",
        "5. Why might you use a set instead of a list in Python?\n",
        "You might use a set instead of a list in Python when you need to store a collection of unique elements and don't care about the order. Sets are also more efficient than lists for certain operations, such as membership testing.\n",
        "\n",
        "6. What is a string in Python, and how is it different from a list?\n",
        "A string in Python is a sequence of characters, while a list is a sequence of arbitrary objects. Strings are immutable, while lists are mutable.\n",
        "\n",
        "7. How do tuples ensure data integrity in Python?\n",
        "Tuples ensure data integrity in Python by being immutable, which means that their contents cannot be modified after creation. This makes tuples more secure and predictable.\n",
        "\n",
        "8. What is a hash table, and how does it relate to dictionaries in Python?\n",
        "A hash table is a data structure that maps keys to values using a hash function. Dictionaries in Python use a hash table to store their key-value pairs, which enables fast lookup and retrieval.\n",
        "\n",
        "9. Can lists contain different data types in Python?\n",
        "Yes, lists can contain different data types in Python. For example, a list can contain both integers and strings.\n",
        "\n",
        "10. Explain why strings are immutable in Python.\n",
        "Strings are immutable in Python because they are designed to be secure and predictable. This makes it easier to reason about the behavior of strings and prevents unexpected changes.\n",
        "\n",
        "11. What advantages do dictionaries offer over lists for certain tasks?\n",
        "Dictionaries offer several advantages over lists for certain tasks, including fast lookup and retrieval, efficient insertion and deletion, and the ability to store key-value pairs.\n",
        "\n",
        "12. Describe a scenario where using a tuple would be preferable over a list.\n",
        "Using a tuple would be preferable over a list when you need to store a small, fixed-size collection of elements and don't need to modify it after creation. Tuples are also more secure and predictable than lists.\n",
        "\n",
        "13. How do sets handle duplicate values in Python?\n",
        "Sets in Python handle duplicate values by ignoring them. If you try to add a duplicate value to a set, it will simply be ignored.\n",
        "\n",
        "14. How does the \"in\" keyword work differently for lists and dictionaries?\n",
        "The \"in\" keyword works differently for lists and dictionaries in Python. For lists, it checks if an element is present in the list, while for dictionaries, it checks if a key is present in the dictionary.\n",
        "\n",
        "15. Can you modify the elements of a tuple? Explain why or why not.\n",
        "No, you cannot modify the elements of a tuple in Python. This is because tuples are immutable, which means that their contents cannot be modified after creation.\n",
        "\n",
        "16. What is a nested dictionary, and give an example of its use case?\n",
        "A nested dictionary is a dictionary that contains other dictionaries as values. An example of its use case is storing data about people, where each person has their own dictionary containing their name, age, and address.\n",
        "\n",
        "17. Describe the time complexity of accessing elements in a dictionary.\n",
        "The time complexity of accessing elements in a dictionary is O(1) on average, making dictionaries very efficient for lookup and retrieval.\n",
        "\n",
        "18. In what situations are lists preferred over dictionaries?\n",
        "Lists are preferred over dictionaries when you need to store a collection of elements that don't have a natural key or when you need to preserve the order of the elements.\n",
        "\n",
        "19. Why are dictionaries considered unordered, and how does that affect data retrieval?\n",
        "Dictionaries are considered unordered because they don't preserve the order of their key-value pairs. This means that when you iterate over a dictionary, the order of the key-value pairs is not guaranteed.\n",
        "\n",
        "20. Explain the difference between a list and a dictionary in terms of data retrieval.\n",
        "The main difference between a list and a dictionary in terms of data retrieval is that lists are indexed by integers, while dictionaries are indexed by keys"
      ],
      "metadata": {
        "id": "T5PWKGYZkGbx"
      },
      "execution_count": null,
      "outputs": []
    },
    {
      "cell_type": "markdown",
      "source": [
        "Practical Questions"
      ],
      "metadata": {
        "id": "eEa5D1jEkmBl"
      }
    },
    {
      "cell_type": "markdown",
      "source": [
        "1. Write a code to create a string with your name and print it.\n"
      ],
      "metadata": {
        "id": "Q2uKLhUzkqzs"
      }
    },
    {
      "cell_type": "code",
      "source": [
        "name = \"Yash Gupta\"\n",
        "print(name)\n"
      ],
      "metadata": {
        "colab": {
          "base_uri": "https://localhost:8080/"
        },
        "id": "Cd9hHlx9lMf3",
        "outputId": "af0b9547-484f-4bd2-df3d-0fd90b5b2d38"
      },
      "execution_count": null,
      "outputs": [
        {
          "output_type": "stream",
          "name": "stdout",
          "text": [
            "Yash Gupta\n"
          ]
        }
      ]
    },
    {
      "cell_type": "code",
      "source": [
        "2. Write a code to find the length of the string \"Hello World\".\n"
      ],
      "metadata": {
        "id": "K6VHpl-3laji"
      },
      "execution_count": null,
      "outputs": []
    },
    {
      "cell_type": "code",
      "source": [
        "string = \"Hello World\"\n",
        "length = len(string)\n",
        "print(\"Length of the string:\", length)"
      ],
      "metadata": {
        "colab": {
          "base_uri": "https://localhost:8080/"
        },
        "id": "8mzjmOfXlpC3",
        "outputId": "4a6168a8-2646-4ac4-b5df-79ed11a10410"
      },
      "execution_count": null,
      "outputs": [
        {
          "output_type": "stream",
          "name": "stdout",
          "text": [
            "Length of the string: 11\n"
          ]
        }
      ]
    },
    {
      "cell_type": "code",
      "source": [
        "3. Write a code to slice the first 3 characters from the string \"Python Programming\""
      ],
      "metadata": {
        "id": "YoMLTRJ_lwUO"
      },
      "execution_count": null,
      "outputs": []
    },
    {
      "cell_type": "code",
      "source": [
        "string = \"Python Programming\"\n",
        "sliced_string = string[:3]\n",
        "print(\"Sliced string:\", sliced_string)"
      ],
      "metadata": {
        "colab": {
          "base_uri": "https://localhost:8080/"
        },
        "id": "i3q8CnUAl1rS",
        "outputId": "cc535f10-1bd2-49c7-c906-810c60d0f2c4"
      },
      "execution_count": null,
      "outputs": [
        {
          "output_type": "stream",
          "name": "stdout",
          "text": [
            "Sliced string: Pyt\n"
          ]
        }
      ]
    },
    {
      "cell_type": "code",
      "source": [
        "4. Write a code to convert the string \"hello\" to uppercase.\n"
      ],
      "metadata": {
        "id": "HCyyyjOQl4Pv"
      },
      "execution_count": null,
      "outputs": []
    },
    {
      "cell_type": "code",
      "source": [
        "string = \"hello\"\n",
        "uppercase_string = string.upper()\n",
        "print(\"Uppercase string:\", uppercase_string)\n",
        "\n"
      ],
      "metadata": {
        "colab": {
          "base_uri": "https://localhost:8080/"
        },
        "id": "AaFyomcYl8gV",
        "outputId": "7c5c6121-db12-4b34-da98-c343ffcda042"
      },
      "execution_count": null,
      "outputs": [
        {
          "output_type": "stream",
          "name": "stdout",
          "text": [
            "Uppercase string: HELLO\n"
          ]
        }
      ]
    },
    {
      "cell_type": "code",
      "source": [
        "5. Write a code to replace the word \"apple\" with \"orange\" in the string \"I like apple\".\n"
      ],
      "metadata": {
        "id": "OERwilA0mMAf"
      },
      "execution_count": null,
      "outputs": []
    },
    {
      "cell_type": "code",
      "source": [
        "string = \"I like apple\"\n",
        "replaced_string = string.replace(\"apple\", \"orange\")\n",
        "print(\"Replaced string:\", replaced_string)"
      ],
      "metadata": {
        "colab": {
          "base_uri": "https://localhost:8080/"
        },
        "id": "1l78rlfxmd1x",
        "outputId": "1db83dfd-2abe-44c0-e299-52dfb8dd2a1c"
      },
      "execution_count": null,
      "outputs": [
        {
          "output_type": "stream",
          "name": "stdout",
          "text": [
            "Replaced string: I like orange\n"
          ]
        }
      ]
    },
    {
      "cell_type": "code",
      "source": [
        "6. Write a code to create a list with numbers 1 to 5 and print it.\n"
      ],
      "metadata": {
        "id": "Tg0SuUgJmgHs"
      },
      "execution_count": null,
      "outputs": []
    },
    {
      "cell_type": "code",
      "source": [
        "numbers = [1, 2, 3, 4, 5]\n",
        "print(\"List of numbers:\", numbers)"
      ],
      "metadata": {
        "colab": {
          "base_uri": "https://localhost:8080/"
        },
        "id": "YOgDpgS1mlN3",
        "outputId": "46235efa-e0dd-4903-da23-0c29eace05d3"
      },
      "execution_count": null,
      "outputs": [
        {
          "output_type": "stream",
          "name": "stdout",
          "text": [
            "List of numbers: [1, 2, 3, 4, 5]\n"
          ]
        }
      ]
    },
    {
      "cell_type": "code",
      "source": [
        "7. Write a code to append the number 10 to the list [1, 2, 3, 4].\n"
      ],
      "metadata": {
        "id": "6GD6JZOAmoY8"
      },
      "execution_count": null,
      "outputs": []
    },
    {
      "cell_type": "code",
      "source": [
        "numbers = [1, 2, 3, 4]\n",
        "numbers.append(10)\n",
        "print(\"Updated list:\", numbers)\n"
      ],
      "metadata": {
        "colab": {
          "base_uri": "https://localhost:8080/"
        },
        "id": "1TkL3fV8muNI",
        "outputId": "f84eb17e-2302-4d5a-f593-e946e22eef60"
      },
      "execution_count": null,
      "outputs": [
        {
          "output_type": "stream",
          "name": "stdout",
          "text": [
            "Updated list: [1, 2, 3, 4, 10]\n"
          ]
        }
      ]
    },
    {
      "cell_type": "code",
      "source": [
        "8. Write a code to remove the number 3 from the list [1, 2, 3, 4, 5]."
      ],
      "metadata": {
        "id": "6cVeSCxFmxYK"
      },
      "execution_count": null,
      "outputs": []
    },
    {
      "cell_type": "code",
      "source": [
        "numbers = [1, 2, 3, 4, 5]\n",
        "numbers.remove(3)\n",
        "print(\"Updated list:\", numbers)\n"
      ],
      "metadata": {
        "colab": {
          "base_uri": "https://localhost:8080/"
        },
        "id": "PhRM6S0zm2NT",
        "outputId": "0f101d94-e38f-4a2a-e3f6-b30b4670ceb5"
      },
      "execution_count": null,
      "outputs": [
        {
          "output_type": "stream",
          "name": "stdout",
          "text": [
            "Updated list: [1, 2, 4, 5]\n"
          ]
        }
      ]
    },
    {
      "cell_type": "code",
      "source": [
        "9. Write a code to access the second element in the list ['a', 'b', 'c', 'd']."
      ],
      "metadata": {
        "id": "MBWVfYFwm3gA"
      },
      "execution_count": null,
      "outputs": []
    },
    {
      "cell_type": "code",
      "source": [
        "letters = ['a', 'b', 'c', 'd']\n",
        "second_element = letters[1]\n",
        "print(\"Second element:\", second_element)\n",
        "\n"
      ],
      "metadata": {
        "colab": {
          "base_uri": "https://localhost:8080/"
        },
        "id": "aIxAueIim749",
        "outputId": "cfa7f1f6-f7e9-4a83-b4a6-a44c1a54d413"
      },
      "execution_count": null,
      "outputs": [
        {
          "output_type": "stream",
          "name": "stdout",
          "text": [
            "Second element: b\n"
          ]
        }
      ]
    },
    {
      "cell_type": "code",
      "source": [
        "10. Write a code to reverse the list [10, 20, 30, 40, 50]."
      ],
      "metadata": {
        "id": "WvnvEWyMm-Qb"
      },
      "execution_count": null,
      "outputs": []
    },
    {
      "cell_type": "code",
      "source": [
        "\n",
        "numbers = [10, 20, 30, 40, 50]\n",
        "reversed_numbers = numbers[::-1]\n",
        "print(\"Reversed list:\", reversed_numbers)"
      ],
      "metadata": {
        "colab": {
          "base_uri": "https://localhost:8080/"
        },
        "id": "0dI51QB2nCDU",
        "outputId": "5c624450-e9d4-4c76-be1f-3cb62a729ab8"
      },
      "execution_count": null,
      "outputs": [
        {
          "output_type": "stream",
          "name": "stdout",
          "text": [
            "Reversed list: [50, 40, 30, 20, 10]\n"
          ]
        }
      ]
    },
    {
      "cell_type": "code",
      "source": [
        "11. Write a code to create a tuple with the elements 100, 200, 300 and print it."
      ],
      "metadata": {
        "id": "_ftVPgiwnDph"
      },
      "execution_count": null,
      "outputs": []
    },
    {
      "cell_type": "code",
      "source": [
        "numbers = (100, 200, 300)\n",
        "print(numbers)\n"
      ],
      "metadata": {
        "colab": {
          "base_uri": "https://localhost:8080/"
        },
        "id": "ZNTg4y1zpEKs",
        "outputId": "a0d87ca8-885f-4525-cd99-fca7151906de"
      },
      "execution_count": null,
      "outputs": [
        {
          "output_type": "stream",
          "name": "stdout",
          "text": [
            "(100, 200, 300)\n"
          ]
        }
      ]
    },
    {
      "cell_type": "code",
      "source": [
        "12. Write a code to access the second-to-last element of the tuple ('red', 'green', 'blue', 'yellow')."
      ],
      "metadata": {
        "id": "LGW6QzSDpGM-"
      },
      "execution_count": null,
      "outputs": []
    },
    {
      "cell_type": "code",
      "source": [
        "colors = ('red', 'green', 'blue', 'yellow')\n",
        "second_to_last = colors[-2]\n",
        "print(second_to_last)\n",
        "\n"
      ],
      "metadata": {
        "colab": {
          "base_uri": "https://localhost:8080/"
        },
        "id": "4l3RABcipI6I",
        "outputId": "f66668f7-ebfb-4600-9a94-d4464b654475"
      },
      "execution_count": null,
      "outputs": [
        {
          "output_type": "stream",
          "name": "stdout",
          "text": [
            "blue\n"
          ]
        }
      ]
    },
    {
      "cell_type": "code",
      "source": [
        "13. Write a code to find the minimum number in the tuple (10, 20, 5, 15).\n"
      ],
      "metadata": {
        "id": "cKI4pRLTqCMQ"
      },
      "execution_count": null,
      "outputs": []
    },
    {
      "cell_type": "code",
      "source": [
        "numbers = (10, 20, 5, 15)\n",
        "min_number = min(numbers)\n",
        "print(min_number)\n"
      ],
      "metadata": {
        "colab": {
          "base_uri": "https://localhost:8080/"
        },
        "id": "k15c6_R_qNp9",
        "outputId": "ea394f42-358c-48e4-8775-3b57c81ccc5b"
      },
      "execution_count": null,
      "outputs": [
        {
          "output_type": "stream",
          "name": "stdout",
          "text": [
            "5\n",
            "5\n"
          ]
        }
      ]
    },
    {
      "cell_type": "code",
      "source": [
        "14. Write a code to find the index of the element \"cat\" in the tuple ('dog', 'cat', 'rabbit')."
      ],
      "metadata": {
        "id": "RwYylmBRqSWE"
      },
      "execution_count": null,
      "outputs": []
    },
    {
      "cell_type": "code",
      "source": [
        "animals = ('dog', 'cat', 'rabbit')\n",
        "index = animals.index('cat')\n",
        "print(index)\n"
      ],
      "metadata": {
        "id": "YQNT9V5oqyJ_",
        "outputId": "cb38de2c-fe12-4c82-b8fe-4bcafaabb7d5",
        "colab": {
          "base_uri": "https://localhost:8080/"
        }
      },
      "execution_count": null,
      "outputs": [
        {
          "output_type": "stream",
          "name": "stdout",
          "text": [
            "1\n"
          ]
        }
      ]
    },
    {
      "cell_type": "code",
      "source": [
        "15. Write a code to create a tuple containing three different fruits and check if \"kiwi\" is in it."
      ],
      "metadata": {
        "id": "28P6lweGq0Bf"
      },
      "execution_count": null,
      "outputs": []
    },
    {
      "cell_type": "code",
      "source": [
        "fruits = ('apple', 'banana', 'orange')\n",
        "if 'kiwi' in fruits:\n",
        "    print(\"Kiwi is in the tuple\")\n",
        "else:\n",
        "    print(\"Kiwi is not in the tuple\")"
      ],
      "metadata": {
        "id": "PR7fRVEsq5N0",
        "outputId": "53756272-79e8-4760-e496-6742a782047c",
        "colab": {
          "base_uri": "https://localhost:8080/"
        }
      },
      "execution_count": null,
      "outputs": [
        {
          "output_type": "stream",
          "name": "stdout",
          "text": [
            "Kiwi is not in the tuple\n"
          ]
        }
      ]
    },
    {
      "cell_type": "code",
      "source": [
        "16. Write a code to create a set with the elements 'a', 'b', 'c' and print it.\n"
      ],
      "metadata": {
        "id": "3Qgrv1Gcq8Gu"
      },
      "execution_count": null,
      "outputs": []
    },
    {
      "cell_type": "code",
      "source": [
        "letters = {'a', 'b', 'c'}\n",
        "print(letters)\n"
      ],
      "metadata": {
        "id": "GVkazIYJq_JL",
        "outputId": "94872716-f402-4860-e4da-a977ebf572d7",
        "colab": {
          "base_uri": "https://localhost:8080/"
        }
      },
      "execution_count": null,
      "outputs": [
        {
          "output_type": "stream",
          "name": "stdout",
          "text": [
            "{'b', 'a', 'c'}\n"
          ]
        }
      ]
    },
    {
      "cell_type": "code",
      "source": [
        "17. Write a code to clear all elements from the set {1, 2, 3, 4, 5}.\n"
      ],
      "metadata": {
        "id": "YrCINbKgrEpk"
      },
      "execution_count": null,
      "outputs": []
    },
    {
      "cell_type": "code",
      "source": [
        "numbers = {1, 2, 3, 4, 5}\n",
        "numbers.clear()\n",
        "print(numbers)\n"
      ],
      "metadata": {
        "id": "QrXd5_2drHR1",
        "outputId": "205d17f8-eb3a-4176-cdd2-a717d158c3f1",
        "colab": {
          "base_uri": "https://localhost:8080/"
        }
      },
      "execution_count": null,
      "outputs": [
        {
          "output_type": "stream",
          "name": "stdout",
          "text": [
            "set()\n"
          ]
        }
      ]
    },
    {
      "cell_type": "code",
      "source": [
        "18. Write a code to remove the element 4 from the set {1, 2, 3, 4}.\n"
      ],
      "metadata": {
        "id": "qsInPkcarJ7R"
      },
      "execution_count": null,
      "outputs": []
    },
    {
      "cell_type": "code",
      "source": [
        "numbers = {1, 2, 3, 4}\n",
        "numbers.remove(4)\n",
        "print(numbers)\n"
      ],
      "metadata": {
        "id": "WHcc6mzHrNX4",
        "outputId": "c3646641-ef9b-449b-eedd-6572400b8fe8",
        "colab": {
          "base_uri": "https://localhost:8080/"
        }
      },
      "execution_count": null,
      "outputs": [
        {
          "output_type": "stream",
          "name": "stdout",
          "text": [
            "{1, 2, 3}\n"
          ]
        }
      ]
    },
    {
      "cell_type": "code",
      "source": [
        "19. Write a code to find the union of two sets {1, 2, 3} and {3, 4, 5}.\n"
      ],
      "metadata": {
        "id": "IztllfzTrPjJ"
      },
      "execution_count": null,
      "outputs": []
    },
    {
      "cell_type": "code",
      "source": [
        "set1 = {1, 2, 3}\n",
        "set2 = {3, 4, 5}\n",
        "union = set1.union(set2)\n",
        "print(union)\n"
      ],
      "metadata": {
        "id": "13iZsitprVDE",
        "outputId": "c1567a4f-02e4-42fb-8eed-c7935bec2d40",
        "colab": {
          "base_uri": "https://localhost:8080/"
        }
      },
      "execution_count": null,
      "outputs": [
        {
          "output_type": "stream",
          "name": "stdout",
          "text": [
            "{1, 2, 3, 4, 5}\n"
          ]
        }
      ]
    },
    {
      "cell_type": "code",
      "source": [
        "20. Write a code to find the intersection of two sets {1, 2, 3} and {2, 3, 4}.\n"
      ],
      "metadata": {
        "id": "OQiNd4mjrX0m"
      },
      "execution_count": null,
      "outputs": []
    },
    {
      "cell_type": "code",
      "source": [
        "set1 = {1, 2, 3}\n",
        "set2 = {2, 3, 4}\n",
        "intersection = set1.intersection(set2)\n",
        "print(intersection)"
      ],
      "metadata": {
        "id": "GLoHWvd9rcLP",
        "outputId": "acdaf294-68e6-4779-c3f7-aa5cb6b856c5",
        "colab": {
          "base_uri": "https://localhost:8080/"
        }
      },
      "execution_count": null,
      "outputs": [
        {
          "output_type": "stream",
          "name": "stdout",
          "text": [
            "{2, 3}\n"
          ]
        }
      ]
    },
    {
      "cell_type": "code",
      "source": [
        "21. Write a code to create a dictionary with the keys \"name\", \"age\", and \"city\", and print it.\n"
      ],
      "metadata": {
        "id": "kek9Eah9reHF"
      },
      "execution_count": null,
      "outputs": []
    },
    {
      "cell_type": "code",
      "source": [
        "person = {'name': 'Yash', 'age': 25, 'city': 'Bareilly'}\n",
        "print(person)"
      ],
      "metadata": {
        "id": "OG4uBW4xrhkg",
        "outputId": "c81720c3-8834-4cc4-f9f0-1fc639a10d67",
        "colab": {
          "base_uri": "https://localhost:8080/"
        }
      },
      "execution_count": null,
      "outputs": [
        {
          "output_type": "stream",
          "name": "stdout",
          "text": [
            "{'name': 'Yash', 'age': 25, 'city': 'Bareilly'}\n"
          ]
        }
      ]
    },
    {
      "cell_type": "code",
      "source": [
        "22. Write a code to add a new key-value pair \"country\": \"USA\" to the dictionary {'name': 'John', 'age': 25}."
      ],
      "metadata": {
        "id": "Es1qW5BhrklZ"
      },
      "execution_count": null,
      "outputs": []
    },
    {
      "cell_type": "code",
      "source": [
        "person = {'name': 'Yash', 'age': 25}\n",
        "person['country'] = 'India'\n",
        "print(person)"
      ],
      "metadata": {
        "id": "sULMbHq7rneI",
        "outputId": "2c984b34-2707-4487-98bb-0e72e165618c",
        "colab": {
          "base_uri": "https://localhost:8080/"
        }
      },
      "execution_count": null,
      "outputs": [
        {
          "output_type": "stream",
          "name": "stdout",
          "text": [
            "{'name': 'Yash', 'age': 25, 'country': 'India'}\n"
          ]
        }
      ]
    },
    {
      "cell_type": "code",
      "source": [
        "23. Write a code to access the value associated with the key \"name\" in the dictionary {'name': 'Alice', 'age': 30}."
      ],
      "metadata": {
        "id": "oP85w8qfrp6y"
      },
      "execution_count": null,
      "outputs": []
    },
    {
      "cell_type": "code",
      "source": [
        "person = {'name': 'Yash', 'age': 25}\n",
        "name = person['name']\n",
        "print(name)\n"
      ],
      "metadata": {
        "id": "5Hy0lIvNr6ED",
        "outputId": "83112b49-a85c-4ef5-d1ea-fee387f10017",
        "colab": {
          "base_uri": "https://localhost:8080/"
        }
      },
      "execution_count": null,
      "outputs": [
        {
          "output_type": "stream",
          "name": "stdout",
          "text": [
            "Yash\n"
          ]
        }
      ]
    },
    {
      "cell_type": "code",
      "source": [
        "24. Write a code to remove the key \"age\" from the dictionary {'name': 'Bob', 'age': 22, 'city': 'New York'}.\n"
      ],
      "metadata": {
        "id": "dywjl7oKsAEa"
      },
      "execution_count": null,
      "outputs": []
    },
    {
      "cell_type": "code",
      "source": [
        "person = {'name': 'Yash', 'age': 25, 'city': 'Bareilly'}\n",
        "del person['age']\n",
        "print(person)"
      ],
      "metadata": {
        "id": "GnUcQi9wsF5d",
        "outputId": "3416bbd7-70e8-4a99-fb97-07b5d22b48bc",
        "colab": {
          "base_uri": "https://localhost:8080/"
        }
      },
      "execution_count": null,
      "outputs": [
        {
          "output_type": "stream",
          "name": "stdout",
          "text": [
            "{'name': 'Yash', 'city': 'Bareilly'}\n"
          ]
        }
      ]
    },
    {
      "cell_type": "code",
      "source": [
        "25. Write a code to check if the key \"city\" exists in the dictionary {'name': 'Alice', 'city': 'Paris'}.\n"
      ],
      "metadata": {
        "id": "SN0Yt22TsMdV"
      },
      "execution_count": null,
      "outputs": []
    },
    {
      "cell_type": "code",
      "source": [
        "person = {'name': 'Alice', 'city': 'Paris'}\n",
        "if 'city' in person:\n",
        "    print(\"City exists\")\n",
        "else:\n",
        "    print(\"City does not exist\")\n"
      ],
      "metadata": {
        "id": "ZsLLKSclsTwp",
        "outputId": "1742c834-b452-4590-8b61-f17618449b4f",
        "colab": {
          "base_uri": "https://localhost:8080/"
        }
      },
      "execution_count": null,
      "outputs": [
        {
          "output_type": "stream",
          "name": "stdout",
          "text": [
            "City exists\n"
          ]
        }
      ]
    },
    {
      "cell_type": "code",
      "source": [
        "26. Write a code to create a list, a tuple, and a dictionary, and print them all"
      ],
      "metadata": {
        "id": "Ys7MDH4EsWDe"
      },
      "execution_count": null,
      "outputs": []
    },
    {
      "cell_type": "code",
      "source": [
        "numbers = [1, 2, 3]\n",
        "colors = ('red', 'green', 'blue')\n",
        "person = {'name': 'Yash', 'age': 25}\n",
        "print(numbers)\n",
        "print(colors)\n",
        "print(person)\n"
      ],
      "metadata": {
        "id": "hVaFMK5QsZvS",
        "outputId": "d871cc96-b566-40dc-fdea-083e7c621d03",
        "colab": {
          "base_uri": "https://localhost:8080/"
        }
      },
      "execution_count": null,
      "outputs": [
        {
          "output_type": "stream",
          "name": "stdout",
          "text": [
            "[1, 2, 3]\n",
            "('red', 'green', 'blue')\n",
            "{'name': 'Yash', 'age': 25}\n"
          ]
        }
      ]
    },
    {
      "cell_type": "code",
      "source": [
        "27. Write a code to create a list of 5 random numbers between 1 and 100, sort it in ascending order, and print the result.\n"
      ],
      "metadata": {
        "id": "JuzF1SwsseVp"
      },
      "execution_count": null,
      "outputs": []
    },
    {
      "cell_type": "code",
      "source": [
        "import random\n",
        "numbers = random.sample(range(1, 101), 5)\n",
        "numbers.sort()\n",
        "print(\"Sorted list:\", numbers)\n"
      ],
      "metadata": {
        "id": "i0M3gMIAs5oF",
        "outputId": "eae71dcf-00f9-4b8b-c7f9-cd1be205495c",
        "colab": {
          "base_uri": "https://localhost:8080/"
        }
      },
      "execution_count": null,
      "outputs": [
        {
          "output_type": "stream",
          "name": "stdout",
          "text": [
            "Sorted list: [5, 9, 11, 73, 83]\n"
          ]
        }
      ]
    },
    {
      "cell_type": "code",
      "source": [
        "28. Write a code to create a list with strings and print the element at the third index."
      ],
      "metadata": {
        "id": "HFqgAG4Zs8G7"
      },
      "execution_count": null,
      "outputs": []
    },
    {
      "cell_type": "code",
      "source": [
        "fruits = ['apple', 'banana', 'cherry', 'date', 'elderberry']\n",
        "third_element = fruits[2]\n",
        "print(\"Third element:\", third_element)\n"
      ],
      "metadata": {
        "id": "mg1C2G-Ts_2o",
        "outputId": "d0abee72-8c7a-4548-a820-a7657bcd2422",
        "colab": {
          "base_uri": "https://localhost:8080/"
        }
      },
      "execution_count": null,
      "outputs": [
        {
          "output_type": "stream",
          "name": "stdout",
          "text": [
            "Third element: cherry\n"
          ]
        }
      ]
    },
    {
      "cell_type": "code",
      "source": [
        "29. Write a code to combine two dictionaries into one and print the result.\n"
      ],
      "metadata": {
        "id": "jHvkzXzqtB2m"
      },
      "execution_count": null,
      "outputs": []
    },
    {
      "cell_type": "code",
      "source": [
        "dict1 = {'name': 'yash', 'age': 25}\n",
        "dict2 = {'city': 'Bareilly', 'country': 'India'}\n",
        "combined_dict = {**dict1, **dict2}\n",
        "print(\"Combined dictionary:\", combined_dict)\n",
        "\n"
      ],
      "metadata": {
        "id": "20oD0ppftE2G",
        "outputId": "59df4e16-21d0-4ffc-f693-078d0b5a36fa",
        "colab": {
          "base_uri": "https://localhost:8080/"
        }
      },
      "execution_count": null,
      "outputs": [
        {
          "output_type": "stream",
          "name": "stdout",
          "text": [
            "Combined dictionary: {'name': 'yash', 'age': 25, 'city': 'Bareilly', 'country': 'India'}\n"
          ]
        }
      ]
    },
    {
      "cell_type": "code",
      "source": [
        "30. Write a code to convert a list of strings into a set."
      ],
      "metadata": {
        "id": "x4LJe1VbtPEO"
      },
      "execution_count": null,
      "outputs": []
    },
    {
      "cell_type": "code",
      "source": [
        "fruits = ['apple', 'banana', 'cherry', 'date', 'elderberry']\n",
        "fruit_set = set(fruits)\n",
        "print(\"Set:\", fruit_set)"
      ],
      "metadata": {
        "id": "YSMukgq_tSpV",
        "outputId": "492fd569-89c6-4096-a6d7-599634ad410b",
        "colab": {
          "base_uri": "https://localhost:8080/"
        }
      },
      "execution_count": null,
      "outputs": [
        {
          "output_type": "stream",
          "name": "stdout",
          "text": [
            "Set: {'date', 'cherry', 'elderberry', 'apple', 'banana'}\n"
          ]
        }
      ]
    },
    {
      "cell_type": "code",
      "source": [],
      "metadata": {
        "id": "bYyqUFFCtUTU"
      },
      "execution_count": null,
      "outputs": []
    }
  ]
}